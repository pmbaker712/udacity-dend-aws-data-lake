{
 "cells": [
  {
   "cell_type": "code",
   "execution_count": 1,
   "metadata": {
    "editable": true
   },
   "outputs": [],
   "source": [
    "import configparser\n",
    "import datetime\n",
    "import calendar\n",
    "import os\n",
    "from pyspark.sql import functions as F\n",
    "from pyspark.sql import types as T\n",
    "from pyspark.sql import SparkSession\n",
    "from pyspark.sql.functions import udf, col\n",
    "from pyspark.sql.functions import year, month, dayofmonth, hour, weekofyear, date_format"
   ]
  },
  {
   "cell_type": "code",
   "execution_count": 2,
   "metadata": {
    "editable": true
   },
   "outputs": [
    {
     "data": {
      "text/plain": [
       "['dl.cfg']"
      ]
     },
     "execution_count": 2,
     "metadata": {},
     "output_type": "execute_result"
    }
   ],
   "source": [
    "config = configparser.ConfigParser()\n",
    "config.read('dl.cfg')"
   ]
  },
  {
   "cell_type": "code",
   "execution_count": 3,
   "metadata": {
    "editable": true
   },
   "outputs": [],
   "source": [
    "os.environ['AWS_ACCESS_KEY_ID']=config['IAM_USER']['AWS_ACCESS_KEY_ID']\n",
    "os.environ['AWS_SECRET_ACCESS_KEY']=config['IAM_USER']['AWS_SECRET_ACCESS_KEY']"
   ]
  },
  {
   "cell_type": "code",
   "execution_count": 4,
   "metadata": {
    "editable": true
   },
   "outputs": [],
   "source": [
    "def create_spark_session():\n",
    "    spark = SparkSession \\\n",
    "        .builder \\\n",
    "        .config(\"spark.jars.packages\", \"org.apache.hadoop:hadoop-aws:2.7.0\") \\\n",
    "        .getOrCreate()\n",
    "    return spark"
   ]
  },
  {
   "cell_type": "code",
   "execution_count": 5,
   "metadata": {
    "editable": true
   },
   "outputs": [],
   "source": [
    "spark = create_spark_session()"
   ]
  },
  {
   "cell_type": "code",
   "execution_count": 6,
   "metadata": {
    "editable": true
   },
   "outputs": [],
   "source": [
    "output_data = 's3a://data-lake-pmb2/'"
   ]
  },
  {
   "cell_type": "code",
   "execution_count": 7,
   "metadata": {
    "editable": true
   },
   "outputs": [],
   "source": [
    "songs_table = spark.read.parquet(output_data + 'songs.parquet')\n",
    "artists_table = spark.read.parquet(output_data + 'artists.parquet')"
   ]
  },
  {
   "cell_type": "code",
   "execution_count": 8,
   "metadata": {
    "editable": true
   },
   "outputs": [],
   "source": [
    "log_data = 'data/log_data/*'\n",
    "\n",
    "df = spark.read.json(log_data)\n",
    "\n",
    "# filter by actions for song plays\n",
    "df = df.where(df.page == 'NextSong')\n",
    "\n",
    "# extract columns for users table    \n",
    "users_table = df.select('userId',\n",
    "                        'firstName',\n",
    "                        'lastName',\n",
    "                        'gender',\n",
    "                        'level') \\\n",
    "                      .withColumnRenamed('userId', 'user_id') \\\n",
    "                      .withColumnRenamed('firstName', 'first_name') \\\n",
    "                      .withColumnRenamed('lastName', 'last_name') \\\n",
    "                      .distinct()\n",
    "\n",
    "# create start_time column from original timestamp column\n",
    "df = df.withColumn(\n",
    "    'start_time',\n",
    "    F.to_timestamp(F.from_unixtime((col('ts') / 1000) , 'yyyy-MM-dd HH:mm:ss.SSS')).cast('Timestamp')\n",
    ")"
   ]
  },
  {
   "cell_type": "code",
   "execution_count": 9,
   "metadata": {
    "editable": true
   },
   "outputs": [],
   "source": [
    "def get_weekday(date):\n",
    "    \"\"\"\n",
    "    Gets day of week from date.\n",
    "    Parameters: date\n",
    "    Returns: day of week\n",
    "    \"\"\"\n",
    "    date = date.strftime(\"%m-%d-%Y\")\n",
    "    month, day, year = (int(x) for x in date.split('-'))\n",
    "    weekday = datetime.date(year, month, day)\n",
    "    return calendar.day_name[weekday.weekday()]\n",
    "\n",
    "udf_week_day = udf(get_weekday, T.StringType())\n",
    "\n",
    "# extract columns to create time table\n",
    "time_table = df.withColumn('hour', hour(col('start_time'))) \\\n",
    "               .withColumn('day', dayofmonth(col('start_time'))) \\\n",
    "               .withColumn('week', weekofyear(col('start_time'))) \\\n",
    "               .withColumn('month', month(col('start_time'))) \\\n",
    "               .withColumn('year', year(col('start_time'))) \\\n",
    "               .withColumn('weekday', udf_week_day(col('start_time'))) \\\n",
    "               .select('start_time',\n",
    "                        'hour',\n",
    "                        'day',\n",
    "                        'week',\n",
    "                        'month',\n",
    "                        'year',\n",
    "                        'weekday').distinct()"
   ]
  },
  {
   "cell_type": "code",
   "execution_count": 10,
   "metadata": {
    "editable": true
   },
   "outputs": [
    {
     "name": "stdout",
     "output_type": "stream",
     "text": [
      "+-------------------+----+---+----+-----+----+---------+\n",
      "|         start_time|hour|day|week|month|year|  weekday|\n",
      "+-------------------+----+---+----+-----+----+---------+\n",
      "|2018-11-15 21:21:37|  21| 15|  46|   11|2018| Thursday|\n",
      "|2018-11-21 06:15:25|   6| 21|  47|   11|2018|Wednesday|\n",
      "|2018-11-14 04:13:46|   4| 14|  46|   11|2018|Wednesday|\n",
      "|2018-11-14 04:58:37|   4| 14|  46|   11|2018|Wednesday|\n",
      "|2018-11-14 07:29:17|   7| 14|  46|   11|2018|Wednesday|\n",
      "|2018-11-28 19:00:08|  19| 28|  48|   11|2018|Wednesday|\n",
      "|2018-11-28 21:03:23|  21| 28|  48|   11|2018|Wednesday|\n",
      "|2018-11-28 22:40:20|  22| 28|  48|   11|2018|Wednesday|\n",
      "|2018-11-05 19:02:48|  19|  5|  45|   11|2018|   Monday|\n",
      "|2018-11-13 21:10:36|  21| 13|  46|   11|2018|  Tuesday|\n",
      "|2018-11-30 07:22:12|   7| 30|  48|   11|2018|   Friday|\n",
      "|2018-11-30 16:31:25|  16| 30|  48|   11|2018|   Friday|\n",
      "|2018-11-16 08:43:25|   8| 16|  46|   11|2018|   Friday|\n",
      "|2018-11-20 22:17:06|  22| 20|  47|   11|2018|  Tuesday|\n",
      "|2018-11-24 12:15:27|  12| 24|  47|   11|2018| Saturday|\n",
      "|2018-11-24 12:23:29|  12| 24|  47|   11|2018| Saturday|\n",
      "|2018-11-24 13:26:20|  13| 24|  47|   11|2018| Saturday|\n",
      "|2018-11-24 16:54:37|  16| 24|  47|   11|2018| Saturday|\n",
      "|2018-11-27 14:35:32|  14| 27|  48|   11|2018|  Tuesday|\n",
      "|2018-11-27 17:41:09|  17| 27|  48|   11|2018|  Tuesday|\n",
      "+-------------------+----+---+----+-----+----+---------+\n",
      "only showing top 20 rows\n",
      "\n"
     ]
    }
   ],
   "source": [
    "time_table.show()"
   ]
  },
  {
   "cell_type": "code",
   "execution_count": 11,
   "metadata": {
    "editable": true
   },
   "outputs": [
    {
     "name": "stdout",
     "output_type": "stream",
     "text": [
      "+------------------+--------------------+---------+----+------------------+\n",
      "|           song_id|               title| duration|year|         artist_id|\n",
      "+------------------+--------------------+---------+----+------------------+\n",
      "|SOKTJDS12AF72A25E5|Drown In My Own T...|  192.522|   0|ARA23XO1187B9AF18F|\n",
      "|SOEKAZG12AB018837E|I'll Slap Your Fa...|129.85424|2001|ARSVTNL1187B992A91|\n",
      "|SOAFBCP12A8C13CC7D|King Of Scurf (20...|301.40036|1972|ARTC1LV1187B9A4858|\n",
      "|SORRNOC12AB017F52B|The Last Beat Of ...|337.81506|2004|ARSZ7L31187FB4E610|\n",
      "|SOQPWCR12A6D4FB2A3|A Poor Recipe For...|118.07302|2005|AR73AIO1187B9AD57B|\n",
      "|SODZYPO12A8C13A91E|Burn My Body (Alb...|177.99791|   0|AR1C2IX1187B99BF74|\n",
      "|SOBRKGM12A8C139EF6|Welcome to the Pl...|821.05424|1985|ARXQBR11187B98A2CC|\n",
      "|SOERIDA12A6D4F8506|I Want You (Album...|192.28689|2006|ARBZIN01187FB362CC|\n",
      "|SOAPERH12A58A787DC|The One And Only ...|230.42567|   0|ARZ5H0P1187B98A1DD|\n",
      "|SOSMJFC12A8C13DE0C|Is That All There...|343.87546|   0|AR1KTV21187B9ACD72|\n",
      "|SONRWUU12AF72A4283|  Into The Nightlife|240.63955|2008|ARGE7G11187FB37E05|\n",
      "|SOOVHYF12A8C134892|     I'll Be Waiting|304.56118|1989|ARCLYBR1187FB53913|\n",
      "|SOXZYWX12A6310ED0C|     It's About Time| 246.9873|   0|ARC1IHZ1187FB4E920|\n",
      "|SOFSOCN12A8C143F5D|      Face the Ashes|209.60608|2007|ARXR32B1187FB57099|\n",
      "|SOIGHOD12A8C13B5A1|        Indian Angel|171.57179|2004|ARY589G1187B9A9F4E|\n",
      "|SOHKNRJ12A6701D1F8|        Drop of Rain|189.57016|   0|AR10USD1187B99F3F1|\n",
      "|SOIGICF12A8C141BC5|        Game & Watch|580.54485|2004|AREWD471187FB49873|\n",
      "|SOFRDWL12A58A7CEF7|        Hit Da Scene|252.94322|   0|AR9Q9YC1187FB5609B|\n",
      "|SOHOZBI12A8C132E3C|         Smash It Up|195.39546|2000|AR0MWD61187B9B2B12|\n",
      "|SONQPZK12AB0182D84|         Double Wide|160.20853|   0|ARKYKXP11F50C47A6A|\n",
      "+------------------+--------------------+---------+----+------------------+\n",
      "only showing top 20 rows\n",
      "\n"
     ]
    }
   ],
   "source": [
    "songs_table.show()"
   ]
  },
  {
   "cell_type": "code",
   "execution_count": 12,
   "metadata": {
    "editable": true
   },
   "outputs": [
    {
     "name": "stdout",
     "output_type": "stream",
     "text": [
      "+--------------------+---------+---------+------+-------------+--------+---------+-----+--------------------+------+--------+-----------------+---------+--------------------+------+-------------+--------------------+------+-------------------+\n",
      "|              artist|     auth|firstName|gender|itemInSession|lastName|   length|level|            location|method|    page|     registration|sessionId|                song|status|           ts|           userAgent|userId|         start_time|\n",
      "+--------------------+---------+---------+------+-------------+--------+---------+-----+--------------------+------+--------+-----------------+---------+--------------------+------+-------------+--------------------+------+-------------------+\n",
      "|            Harmonia|Logged In|     Ryan|     M|            0|   Smith|655.77751| free|San Jose-Sunnyval...|   PUT|NextSong|1.541016707796E12|      583|       Sehr kosmisch|   200|1542241826796|\"Mozilla/5.0 (X11...|    26|2018-11-15 00:30:26|\n",
      "|         The Prodigy|Logged In|     Ryan|     M|            1|   Smith|260.07465| free|San Jose-Sunnyval...|   PUT|NextSong|1.541016707796E12|      583|     The Big Gundown|   200|1542242481796|\"Mozilla/5.0 (X11...|    26|2018-11-15 00:41:21|\n",
      "|               Train|Logged In|     Ryan|     M|            2|   Smith|205.45261| free|San Jose-Sunnyval...|   PUT|NextSong|1.541016707796E12|      583|            Marry Me|   200|1542242741796|\"Mozilla/5.0 (X11...|    26|2018-11-15 00:45:41|\n",
      "|         Sony Wonder|Logged In|   Samuel|     M|            0|Gonzalez|218.06975| free|Houston-The Woodl...|   PUT|NextSong|1.540492941796E12|      597|           Blackbird|   200|1542253449796|\"Mozilla/5.0 (Mac...|    61|2018-11-15 03:44:09|\n",
      "|           Van Halen|Logged In|    Tegan|     F|            2|  Levine|289.38404| paid|Portland-South Po...|   PUT|NextSong|1.540794356796E12|      602|Best Of Both Worl...|   200|1542260935796|\"Mozilla/5.0 (Mac...|    80|2018-11-15 05:48:55|\n",
      "|           Magic Sam|Logged In|    Tegan|     F|            3|  Levine|132.04853| paid|Portland-South Po...|   PUT|NextSong|1.540794356796E12|      602|Call Me If You Ne...|   200|1542261224796|\"Mozilla/5.0 (Mac...|    80|2018-11-15 05:53:44|\n",
      "|Edward Sharpe & T...|Logged In|    Tegan|     F|            4|  Levine|306.31138| paid|Portland-South Po...|   PUT|NextSong|1.540794356796E12|      602|                Home|   200|1542261356796|\"Mozilla/5.0 (Mac...|    80|2018-11-15 05:55:56|\n",
      "|Usher featuring w...|Logged In|    Tegan|     F|            5|  Levine|395.72853| paid|Portland-South Po...|   PUT|NextSong|1.540794356796E12|      602|                 OMG|   200|1542261662796|\"Mozilla/5.0 (Mac...|    80|2018-11-15 06:01:02|\n",
      "|         Helen Reddy|Logged In|    Tegan|     F|            7|  Levine|176.50893| paid|Portland-South Po...|   PUT|NextSong|1.540794356796E12|      602| Candle On The Water|   200|1542262057796|\"Mozilla/5.0 (Mac...|    80|2018-11-15 06:07:37|\n",
      "|        Taylor Swift|Logged In|    Tegan|     F|            8|  Levine|201.06404| paid|Portland-South Po...|   PUT|NextSong|1.540794356796E12|      602|            Our Song|   200|1542262233796|\"Mozilla/5.0 (Mac...|    80|2018-11-15 06:10:33|\n",
      "|           Sean Paul|Logged In|    Tegan|     F|            9|  Levine|245.34159| paid|Portland-South Po...|   PUT|NextSong|1.540794356796E12|      602|Baby Boy [feat. B...|   200|1542262434796|\"Mozilla/5.0 (Mac...|    80|2018-11-15 06:13:54|\n",
      "|         Soundgarden|Logged In|     Lily|     F|            0|    Koch|272.19546| paid|Chicago-Napervill...|   PUT|NextSong|1.541048010796E12|      582|      Black Hole Sun|   200|1542262456796|\"Mozilla/5.0 (X11...|    15|2018-11-15 06:14:16|\n",
      "|         The Killers|Logged In|    Tegan|     F|           10|  Levine|360.75057| paid|Portland-South Po...|   PUT|NextSong|1.540794356796E12|      602|               Human|   200|1542262679796|\"Mozilla/5.0 (Mac...|    80|2018-11-15 06:17:59|\n",
      "|       Amy Winehouse|Logged In|     Lily|     F|            1|    Koch|165.11955| paid|Chicago-Napervill...|   PUT|NextSong|1.541048010796E12|      582|            Addicted|   200|1542262728796|\"Mozilla/5.0 (X11...|    15|2018-11-15 06:18:48|\n",
      "|      Steve Anderson|Logged In|     Lily|     F|            2|    Koch|265.06404| paid|Chicago-Napervill...|   PUT|NextSong|1.541048010796E12|      582|                 Air|   200|1542262893796|\"Mozilla/5.0 (X11...|    15|2018-11-15 06:21:33|\n",
      "|          Rob Zombie|Logged In|     Lily|     F|            3|    Koch|220.13342| paid|Chicago-Napervill...|   PUT|NextSong|1.541048010796E12|      582|          Superbeast|   200|1542263158796|\"Mozilla/5.0 (X11...|    15|2018-11-15 06:25:58|\n",
      "|  Deadmau5 & Kaskade|Logged In|     Lily|     F|            4|    Koch|595.56526| paid|Chicago-Napervill...|   PUT|NextSong|1.541048010796E12|      582|          I Remember|   200|1542263378796|\"Mozilla/5.0 (X11...|    15|2018-11-15 06:29:38|\n",
      "|        Shania Twain|Logged In|     Ryan|     M|            0|   Smith| 213.7073| free|San Jose-Sunnyval...|   PUT|NextSong|1.541016707796E12|      607|Don't Be Stupid (...|   200|1542265716796|\"Mozilla/5.0 (X11...|    26|2018-11-15 07:08:36|\n",
      "|      Los Campesinos|Logged In|     Ryan|     M|            1|   Smith|138.10893| free|San Jose-Sunnyval...|   PUT|NextSong|1.541016707796E12|      607|We throw parties_...|   200|1542265929796|\"Mozilla/5.0 (X11...|    26|2018-11-15 07:12:09|\n",
      "|            Ill Nino|Logged In|    Chloe|     F|            1|  Cuevas| 188.9171| paid|San Francisco-Oak...|   PUT|NextSong|1.540940782796E12|      606|How Can I Live (S...|   200|1542266927796|Mozilla/5.0 (Wind...|    49|2018-11-15 07:28:47|\n",
      "+--------------------+---------+---------+------+-------------+--------+---------+-----+--------------------+------+--------+-----------------+---------+--------------------+------+-------------+--------------------+------+-------------------+\n",
      "only showing top 20 rows\n",
      "\n"
     ]
    }
   ],
   "source": [
    "df.show()"
   ]
  },
  {
   "cell_type": "code",
   "execution_count": 13,
   "metadata": {
    "editable": true
   },
   "outputs": [],
   "source": [
    "songplays_table = df.withColumn('songplay_id', F.monotonically_increasing_id()) \\\n",
    "                    .join(songs_table, (songs_table.title == df.song) & (df.length == songs_table.duration)) \\\n",
    "                    .join(artists_table, (df.artist == artists_table.name) & (songs_table.artist_id == artists_table.artist_id)) \\\n",
    "                    .join(time_table, time_table.start_time == df.start_time) \\\n",
    "                    .select('songplay_id',\n",
    "                            df['start_time'],\n",
    "                            df['userId'],\n",
    "                            df['level'],\n",
    "                            songs_table['song_id'],\n",
    "                            songs_table['artist_id'],\n",
    "                            df['sessionId'],\n",
    "                            artists_table['location'],\n",
    "                            df['userAgent'],\n",
    "                            time_table['year'],\n",
    "                            time_table['month']) \\\n",
    "                         .withColumnRenamed('userId', 'user_id') \\\n",
    "                         .withColumnRenamed('sessionId', 'session_id') \\\n",
    "                         .withColumnRenamed('userAgent', 'user_agent') "
   ]
  },
  {
   "cell_type": "code",
   "execution_count": 14,
   "metadata": {
    "editable": true
   },
   "outputs": [
    {
     "name": "stdout",
     "output_type": "stream",
     "text": [
      "+-----------+----------+-------+-----+-------+---------+----------+--------+----------+----+-----+\n",
      "|songplay_id|start_time|user_id|level|song_id|artist_id|session_id|location|user_agent|year|month|\n",
      "+-----------+----------+-------+-----+-------+---------+----------+--------+----------+----+-----+\n",
      "+-----------+----------+-------+-----+-------+---------+----------+--------+----------+----+-----+\n",
      "\n"
     ]
    }
   ],
   "source": [
    "songplays_table.show()"
   ]
  },
  {
   "cell_type": "code",
   "execution_count": null,
   "metadata": {
    "editable": true
   },
   "outputs": [],
   "source": []
  }
 ],
 "metadata": {
  "kernelspec": {
   "display_name": "Python 3",
   "language": "python",
   "name": "python3"
  },
  "language_info": {
   "codemirror_mode": {
    "name": "ipython",
    "version": 3
   },
   "file_extension": ".py",
   "mimetype": "text/x-python",
   "name": "python",
   "nbconvert_exporter": "python",
   "pygments_lexer": "ipython3",
   "version": "3.6.3"
  }
 },
 "nbformat": 4,
 "nbformat_minor": 4
}
